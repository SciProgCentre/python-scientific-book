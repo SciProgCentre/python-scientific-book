{
 "cells": [
  {
   "cell_type": "markdown",
   "metadata": {
    "pycharm": {
     "name": "#%% md\n"
    }
   },
   "source": [
    "# Работа 1.4.1. Изучение колебаний физического маятника\n",
    "---\n",
    "Образец обработки экспериментальных данных\n",
    "----------------------------------------\n",
    "\n",
    "Данный документ представляет собой пример обработки результатов измерений и построения графиков с помощью библиотек языка Python. В работе измеряется период колебаний физического маятника в форме сплошного стержня. Изучается зависимость периода от расстояния до точки подвеса. По измеренной зависимости проверяется теоретическая модель и вычисляется ускорение свободного падения."
   ]
  },
  {
   "cell_type": "code",
   "execution_count": 29,
   "metadata": {
    "pycharm": {
     "name": "#%%\n"
    }
   },
   "outputs": [],
   "source": [
    "// импорт библиотек\n",
    "// для построения графиков\n",
    "%use plotly\n",
    "// Математические функции\n",
    "@file:DependsOn(\"org.apache.commons:commons-math3:3.6.1\")\n",
    "import kotlin.math.*"
   ]
  },
  {
   "cell_type": "markdown",
   "metadata": {
    "pycharm": {
     "name": "#%% md\n"
    }
   },
   "source": [
    "## Определение погрешности измерения времени. Выбор оптимального времени измерений.\n",
    "\n",
    "Измерим время \\$n = 20$ колебаний маятника при некотором фиксированном положении подвесной призмы. Повторим измерения 8 раз и вычислим среднеквадратичное отклонение."
   ]
  },
  {
   "cell_type": "markdown",
   "metadata": {
    "pycharm": {
     "name": "#%% md\n"
    }
   },
   "source": [
    "Результаты предварительных измерений:"
   ]
  },
  {
   "cell_type": "code",
   "execution_count": 2,
   "metadata": {
    "pycharm": {
     "name": "#%%\n"
    }
   },
   "outputs": [],
   "source": [
    "val t0 = listOf(30.55, 30.78, 30.75, 30.64, 30.57, 30.71, 30.51, 30.65) // время 20 колебаний, [с]"
   ]
  },
  {
   "cell_type": "markdown",
   "metadata": {
    "pycharm": {
     "name": "#%% md\n"
    }
   },
   "source": [
    "Вычисляем случайную погрешность как среднеквадратичое отклонение результатов от среднего:\n",
    "\\begin{equation}\n",
    "\\sigma_t = \\sqrt{\\frac{1}{N-1} \\sum (t_i - \\bar{t})^2}\n",
    "\\end{equation}"
   ]
  },
  {
   "cell_type": "code",
   "execution_count": 3,
   "metadata": {
    "pycharm": {
     "name": "#%%\n"
    },
    "scrolled": true
   },
   "outputs": [
    {
     "name": "stdout",
     "output_type": "stream",
     "text": [
      "t_mean = 30.645 ± 0.097\n"
     ]
    }
   ],
   "source": [
    "val t_mean = t0.average() // среднее\n",
    "val N = t0.size // число опытов\n",
    "val sigma_t = sqrt( t0.map{t0 -> (t0 - t_mean).pow(2)}.sum() / (N - 1))\n",
    "println(\"t_mean = ${\"%.3f\".format(t_mean)} ± ${\"%.3f\".format(sigma_t)}\")"
   ]
  },
  {
   "cell_type": "markdown",
   "metadata": {
    "pycharm": {
     "name": "#%% md\n"
    }
   },
   "source": [
    "Таким образом, случайная погрешность измерения полного времени составила $\\sigma_t = 0{,}10$ с (инструментальная погрешность секундомера 0,01 c и ей можно пренебречь по сравнению с $\\sigma_t$). \n",
    "\n",
    "Будем считать, что основной источник погрешности измерения времени -- реакция экспериментатора. Предположим, что задержка реакции человека практически  зависит от полного времени измерения. Тогда исходя требуемой для опыта относительной точности $\\varepsilon = 0{,}5$%, вычислим необходимое полное время измерений:\n",
    "\\begin{equation}\n",
    "t = \\frac{\\sigma_t}{\\varepsilon} \n",
    "\\approx 20\\;с\n",
    "\\end{equation}\n",
    "\n",
    "Таким образом, при периоде $T \\sim1{,}5$ с достаточно провести измерение времени $n = \\frac{t}{T} \\sim 13$ колебаний."
   ]
  },
  {
   "cell_type": "markdown",
   "metadata": {
    "pycharm": {
     "name": "#%% md\n"
    }
   },
   "source": [
    "## Измерение зависимости периода колебаний от положения подвесной призмы\n",
    "\n",
    "Проводим измерение времени $t$ для $n$ колебаний для различных расстояний $a$ (расстояние от подвесной призмы до центра масс стержня)."
   ]
  },
  {
   "cell_type": "markdown",
   "metadata": {
    "pycharm": {
     "name": "#%% md\n"
    }
   },
   "source": [
    "### Данные эксперимента"
   ]
  },
  {
   "cell_type": "markdown",
   "metadata": {
    "pycharm": {
     "name": "#%% md\n"
    }
   },
   "source": [
    "Длина стержня:"
   ]
  },
  {
   "cell_type": "code",
   "execution_count": 7,
   "metadata": {
    "pycharm": {
     "name": "#%%\n"
    }
   },
   "outputs": [],
   "source": [
    "val l = 1.000 // м"
   ]
  },
  {
   "cell_type": "markdown",
   "metadata": {
    "pycharm": {
     "name": "#%% md\n"
    }
   },
   "source": [
    "Расстояния до подвеса (от центра масс стержня):"
   ]
  },
  {
   "cell_type": "code",
   "execution_count": 8,
   "metadata": {
    "pycharm": {
     "name": "#%%\n"
    }
   },
   "outputs": [],
   "source": [
    "val a = listOf(460.0, 420.0, 381.0, 360.0, 320.0, 291.0, 250.0, 210.0,\n",
    "                180.0, 140.0, 100.0, 70.0) // [мм]\n",
    "    .map { it/1e3} // перевод в [м]\n",
    "val N = a.size // число точек"
   ]
  },
  {
   "cell_type": "markdown",
   "metadata": {
    "pycharm": {
     "name": "#%% md\n"
    }
   },
   "source": [
    "Количество измеренных колебаний:"
   ]
  },
  {
   "cell_type": "code",
   "execution_count": 9,
   "metadata": {
    "pycharm": {
     "name": "#%%\n"
    }
   },
   "outputs": [],
   "source": [
    "val n = listOf(15, 15, 15, 15, 15, 15, 15, 15, 15, 15, 10, 10)"
   ]
  },
  {
   "cell_type": "markdown",
   "metadata": {
    "pycharm": {
     "name": "#%% md\n"
    }
   },
   "source": [
    "Измеренное время, [с]:"
   ]
  },
  {
   "cell_type": "code",
   "execution_count": 10,
   "metadata": {
    "pycharm": {
     "name": "#%%\n"
    }
   },
   "outputs": [],
   "source": [
    "val t = arrayOf(24.16, 23.63, 23.30, 23.10, 23.05, 22.95, \n",
    "                23.01, 23.44, 24.15, 25.88, 19.44, 22.69)"
   ]
  },
  {
   "cell_type": "markdown",
   "metadata": {
    "pycharm": {
     "name": "#%% md\n"
    }
   },
   "source": [
    "Периоды колебаний, [с]:"
   ]
  },
  {
   "cell_type": "code",
   "execution_count": 11,
   "metadata": {
    "pycharm": {
     "name": "#%%\n"
    }
   },
   "outputs": [
    {
     "name": "stdout",
     "output_type": "stream",
     "text": [
      "[1.6106666666666667, 1.5753333333333333, 1.5533333333333335, 1.54, 1.5366666666666666, 1.53, 1.534, 1.5626666666666666, 1.6099999999999999, 1.7253333333333332, 1.9440000000000002, 2.269]\n"
     ]
    }
   ],
   "source": [
    "val T = (t zip n).map{ it.first / it.second }\n",
    "println(T)"
   ]
  },
  {
   "cell_type": "markdown",
   "metadata": {
    "pycharm": {
     "name": "#%% md\n"
    }
   },
   "source": [
    "### Оценка погрешностей исходных данных"
   ]
  },
  {
   "cell_type": "markdown",
   "metadata": {
    "pycharm": {
     "name": "#%% md\n"
    }
   },
   "source": [
    "Погрешности измерений: для длины $\\sigma_a = 0{,}5$ мм (половина цены деления линейки), для периода $\\sigma_T = \\sigma_t/t\\cdot T=\\sigma_t / n$"
   ]
  },
  {
   "cell_type": "code",
   "execution_count": 12,
   "metadata": {
    "pycharm": {
     "name": "#%%\n"
    }
   },
   "outputs": [
    {
     "name": "stdout",
     "output_type": "stream",
     "text": [
      "[0.00649297544726068, 0.00649297544726068, 0.00649297544726068, 0.006492975447260679, 0.006492975447260679, 0.00649297544726068, 0.006492975447260679, 0.006492975447260679, 0.00649297544726068, 0.006492975447260679, 0.009739463170891019, 0.00973946317089102]\n"
     ]
    }
   ],
   "source": [
    "val sigma_a = 0.5e-3\n",
    "val sigma_T = (t zip T).map{(sigma_t / it.first)*it.second}\n",
    "println(sigma_T)"
   ]
  },
  {
   "cell_type": "markdown",
   "metadata": {
    "pycharm": {
     "name": "#%% md\n"
    }
   },
   "source": [
    "### Предварительное вычисление g"
   ]
  },
  {
   "cell_type": "markdown",
   "metadata": {
    "pycharm": {
     "name": "#%% md\n"
    }
   },
   "source": [
    "Если предположить, что справедлива теоретическая зависимость\n",
    "\\begin{equation}\n",
    "T = 2\\pi \\sqrt{ \\frac{l^2/12 + a^2}{g a} },\n",
    "\\end{equation}\n",
    "то ускорение свободного падения можно найти непосредственно по данной формуле. Выразим отсюда g:"
   ]
  },
  {
   "cell_type": "code",
   "execution_count": 13,
   "metadata": {
    "pycharm": {
     "name": "#%%\n"
    }
   },
   "outputs": [
    {
     "name": "stdout",
     "output_type": "stream",
     "text": [
      "[9.756957707213001, 9.83769174718575, 9.812527143913139, 9.845991284858295, 9.703764990789717, 9.737113203664059, 9.786464193566072, 9.810492016652528, 9.792508142427707, 9.750832857376178, 9.749986001403565, 9.665523732304052]\n",
      "g_mean = 9.771\n"
     ]
    }
   ],
   "source": [
    "val gs = (a zip T).map{\n",
    "    val (a, T)  = it\n",
    "    4 * PI.pow(2)*(l.pow(2) / 12 + a.pow(2))/(a*(T.pow(2)))\n",
    "}\n",
    "val gm = gs.average()\n",
    "println(gs)\n",
    "println(\"g_mean = %.3f\".format(gm))"
   ]
  },
  {
   "cell_type": "markdown",
   "metadata": {
    "pycharm": {
     "name": "#%% md\n"
    }
   },
   "source": [
    "Случайную погрешность среднего найдём как стандартное отклонение, делённое на $\\sqrt{N}$:"
   ]
  },
  {
   "cell_type": "code",
   "execution_count": 30,
   "metadata": {
    "pycharm": {
     "name": "#%%\n"
    }
   },
   "outputs": [
    {
     "name": "stdout",
     "output_type": "stream",
     "text": [
      "sigma_gm = 0.016\n"
     ]
    }
   ],
   "source": [
    "import org.apache.commons.math3.stat.descriptive.moment.StandardDeviation\n",
    "val std = StandardDeviation()\n",
    "std.incrementAll(gs.toDoubleArray())\n",
    "val sigma_gm = std.getResult() / sqrt(N.toDouble())\n",
    "println(\"sigma_gm = %.3f\".format(sigma_gm))"
   ]
  },
  {
   "cell_type": "markdown",
   "metadata": {
    "pycharm": {
     "name": "#%% md\n"
    }
   },
   "source": [
    "Окончательный результат по данному методу:\n",
    "\\begin{equation}\n",
    "\\bar{g} = 9{,}771 \\pm 0,015\\; м/с^2\n",
    "\\end{equation}"
   ]
  },
  {
   "cell_type": "markdown",
   "metadata": {
    "pycharm": {
     "name": "#%% md\n"
    }
   },
   "source": [
    "Заметим, что данный результат _не может считаться надёжным_, поскольку справедливость теоретической зависимости ещё не была проверена. Кроме того, усреднение _разнородных_ измерений (при разных значениях параметра $a$) в общем случае **не является корректным**."
   ]
  },
  {
   "cell_type": "markdown",
   "metadata": {
    "pycharm": {
     "name": "#%% md\n"
    }
   },
   "source": [
    "### Построение графика $T(a)$ и определение минимума периода\n",
    "Построим график зависимости периода колебаний от положений призмы $T(a)$"
   ]
  },
  {
   "cell_type": "code",
   "execution_count": 15,
   "metadata": {},
   "outputs": [
    {
     "data": {
      "text/html": [
       "<html>\n",
       "  <head>\n",
       "    <meta charset=\"utf-8\">\n",
       "    <title>Plotly.kt</title>\n",
       "    <script type=\"text/javascript\" src=\"https://cdn.plot.ly/plotly-1.54.6.min.js\"></script>\n",
       "  </head>\n",
       "  <body>\n",
       "    <div id=\"graph_1\">\n",
       "      <script>if(typeof Plotly !== \"undefined\"){\n",
       "    Plotly.react(\n",
       "            'graph_1',\n",
       "            [{\"type\":\"scatter\",\"x\":[0.46,0.42,0.381,0.36,0.32,0.291,0.25,0.21,0.18,0.14,0.1,0.07],\"y\":[1.6106666666666667,1.5753333333333333,1.5533333333333335,1.54,1.5366666666666666,1.53,1.534,1.5626666666666666,1.6099999999999999,1.7253333333333332,1.9440000000000002,2.269],\"name\":\"Экспериментальные точки\",\"error_x\":{\"value\":5.0E-4},\"error_y\":{\"array\":[0.00649297544726068,0.00649297544726068,0.00649297544726068,0.006492975447260679,0.006492975447260679,0.00649297544726068,0.006492975447260679,0.006492975447260679,0.00649297544726068,0.006492975447260679,0.009739463170891019,0.00973946317089102]},\"marker\":{\"color\":\"black\",\"size\":0},\"mode\":\"markers\"},{\"type\":\"scatter\",\"x\":[0.46,0.42,0.381,0.36,0.32,0.291,0.25,0.21,0.18,0.14,0.1,0.07],\"y\":[1.6106666666666667,1.5753333333333333,1.5533333333333335,1.54,1.5366666666666666,1.53,1.534,1.5626666666666666,1.6099999999999999,1.7253333333333332,1.9440000000000002,2.269],\"name\":\"Кусочно линейная интерполяция\",\"line\":{\"color\":\"red\",\"dash\":\"dash\"},\"mode\":\"lines\"},{\"type\":\"scatter\",\"x\":[0.0,0.5],\"y\":[1.53,1.53],\"name\":\"Минимум\",\"mode\":\"lines\"}],\n",
       "            {\"title\":{\"text\":\"$\\\\text{Рис.1. График зависимости периода}~T~\\\\text{от положения призмы}~a$\"},\"width\":700,\"height\":700,\"xaxis\":{\"title\":\"$a,~\\\\text{м}$\"},\"yaxis\":{\"title\":\"$T,~\\\\text{с}$\"}},\n",
       "            {}\n",
       "        );       \n",
       "} else {\n",
       "    console.error(\"Plotly not loaded\")\n",
       "}</script>\n",
       "    </div>\n",
       "  </body>\n",
       "</html>\n"
      ]
     },
     "execution_count": 15,
     "metadata": {
      "text/html": {
       "isolated": true
      }
     },
     "output_type": "execute_result"
    }
   ],
   "source": [
    "Plotly.page{ renderer -> \n",
    "    val plotConfig = PlotlyConfig{\n",
    "        responsive = true\n",
    "        imageFormat = \"svg\"\n",
    "    }\n",
    "    plot(\"graph_1\", renderer = renderer){\n",
    "        // точки с погрешностями\n",
    "        scatter {\n",
    "            x.set(a)\n",
    "            y.set(T)\n",
    "            name = \"Экспериментальные точки\" \n",
    "            error_x{\n",
    "                value = sigma_a\n",
    "            }\n",
    "            error_y{\n",
    "                array = sigma_T\n",
    "            }\n",
    "            marker{\n",
    "                color(\"black\")\n",
    "                size = 0\n",
    "            }\n",
    "            configure{\n",
    "                \"mode\" put \"markers\"\n",
    "            }\n",
    "            \n",
    "        }\n",
    "        // интерполяция\n",
    "        scatter {\n",
    "            x.set(a)\n",
    "            y.set(T)            \n",
    "            name = \"Кусочно линейная интерполяция\" \n",
    "            line{\n",
    "                color(\"red\")\n",
    "                dash = Dash.dash\n",
    "            }\n",
    "            configure{\n",
    "                \"mode\" put \"lines\"\n",
    "            }\n",
    "        }\n",
    "        \n",
    "        scatter {\n",
    "            x.set(listOf(0.00,0.5))\n",
    "            y.set(listOf(1.53, 1.53))\n",
    "            name = \"Минимум\" \n",
    "            configure{\n",
    "                \"mode\" put \"lines\"\n",
    "            }\n",
    "        }\n",
    "        // минимум\n",
    "        layout{\n",
    "            title{ // заголовок\n",
    "                text = \"\\$\\\\text{Рис.1. График зависимости периода}~T~\\\\text{от положения призмы}~a\\$\"\n",
    "            } \n",
    "            width = 700\n",
    "            height = 700\n",
    "            // подписи к осям\n",
    "            xaxis{\n",
    "                title = \"\\$a,~\\\\text{м}\\$\"\n",
    "            }\n",
    "            yaxis{\n",
    "                title = \"\\$T,~\\\\text{с}\\$\"\n",
    "            }\n",
    "            \n",
    "        }\n",
    "    }\n",
    "}\n"
   ]
  },
  {
   "cell_type": "markdown",
   "metadata": {
    "pycharm": {
     "name": "#%% md\n"
    }
   },
   "source": [
    "По графику визуально определяем приблизительное положение минимума: $T_{min} \\approx 1{,}53 \\pm 0{,}2$ с, $a_{min} \\approx 280 \\pm 30$ мм.\n",
    "\n",
    "Теоретическое значение минимума: $a_{min} = \\frac{l}{\\sqrt{12}} \\approx 289$ мм (где $l = 1000$ мм -- длина стержня) совпадает с экспериментальным в пределах погрешности."
   ]
  },
  {
   "cell_type": "markdown",
   "metadata": {
    "pycharm": {
     "name": "#%% md\n"
    }
   },
   "source": [
    "## Построение линеаризованного графика и определение ускорения свободного падения"
   ]
  },
  {
   "cell_type": "markdown",
   "metadata": {
    "pycharm": {
     "name": "#%% md\n"
    }
   },
   "source": [
    "Согласно теории, зависимость периода от положения призмы может быть представлена в виде\n",
    "\\begin{equation}\n",
    "T^2 a = \\frac{4\\pi^2}{g} \\left(\\frac{l^2}{12} + a^2\\right).\n",
    "\\end{equation}\n",
    "\n",
    "Построим график в координатах $u(v)$, где $u= T^2 a$ и $v = a^2$. Тогда теоретическая зависимость примет вид\n",
    "\\begin{equation}\n",
    "u = k v + b,\\quad где \\quad k = \\frac{4\\pi^2}{g},\\; b = \\frac{\\pi^2 l^2}{3g}.\n",
    "\\end{equation}"
   ]
  },
  {
   "cell_type": "code",
   "execution_count": 16,
   "metadata": {
    "pycharm": {
     "name": "#%%\n"
    }
   },
   "outputs": [
    {
     "name": "stdout",
     "output_type": "stream",
     "text": [
      "u = [1.1933536711111112, 1.0423035466666666, 0.9192937333333335, 0.853776, 0.7556302222222222, 0.6812018999999999, 0.5882890000000001, 0.5128046933333333, 0.4665779999999999, 0.41674851555555553, 0.37791360000000007, 0.36038527000000004]\n",
      "v = [0.2116, 0.17639999999999997, 0.145161, 0.1296, 0.1024, 0.08468099999999999, 0.0625, 0.04409999999999999, 0.0324, 0.019600000000000003, 0.010000000000000002, 0.004900000000000001]\n"
     ]
    }
   ],
   "source": [
    "val u = (T zip a).map{it.first.pow(2) * it.second}\n",
    "val v = a.map{it.pow(2)}\n",
    "println(\"u = ${u}\")\n",
    "println(\"v = ${v}\")"
   ]
  },
  {
   "cell_type": "markdown",
   "metadata": {
    "pycharm": {
     "name": "#%% md\n"
    }
   },
   "source": [
    "### Оценка погрешностей точек"
   ]
  },
  {
   "cell_type": "markdown",
   "metadata": {
    "pycharm": {
     "name": "#%% md\n"
    }
   },
   "source": [
    "Предварительно рассчитаем погрешности каждой точки. Согласно формулам расчёта косвенных погрешностей, имеем $\\sigma_u/u = \\sqrt{(2\\sigma_T/T)^2 + (\\sigma_a/a)^2}$, $\\sigma_v = 2 a \\sigma_a$:"
   ]
  },
  {
   "cell_type": "code",
   "execution_count": 17,
   "metadata": {
    "pycharm": {
     "name": "#%%\n"
    }
   },
   "outputs": [],
   "source": [
    "val sigma_u = List(u.size){ i ->\n",
    "    u[i]*sqrt(4*(sigma_T[i]/T[i]).pow(2) + (sigma_a/a[i]).pow(2))\n",
    "}\n",
    "val sigma_v = a.map{2 * it * sigma_a}"
   ]
  },
  {
   "cell_type": "markdown",
   "metadata": {
    "pycharm": {
     "name": "#%% md\n"
    }
   },
   "source": [
    "Вычислим относительные погрешности и убедимся, что все они малы:"
   ]
  },
  {
   "cell_type": "code",
   "execution_count": 18,
   "metadata": {
    "pycharm": {
     "name": "#%%\n"
    }
   },
   "outputs": [
    {
     "name": "stdout",
     "output_type": "stream",
     "text": [
      "[0.008135409585101026, 0.008328822686804814, 0.008462430637464852, 0.008546050740904886, 0.0085939628535251, 0.008659720226366206, 0.008698465290538103, 0.00864448173955884, 0.008530727297310518, 0.008330984765255744, 0.011198253333507319, 0.011167780163563767]\n",
      "[0.002173913043478261, 0.0023809523809523816, 0.0026246719160104982, 0.002777777777777778, 0.003125, 0.003436426116838488, 0.004, 0.004761904761904763, 0.005555555555555556, 0.007142857142857143, 0.009999999999999998, 0.014285714285714285]\n"
     ]
    }
   ],
   "source": [
    "println((sigma_u zip u).map{it.first/it.second}) // относительные погрешности\n",
    "println((sigma_v zip v).map{it.first/it.second}) "
   ]
  },
  {
   "cell_type": "markdown",
   "metadata": {
    "pycharm": {
     "name": "#%% md\n"
    }
   },
   "source": [
    "Видим, что относительная погрешность величины $u$ составляет от 0,8% до 1,1%, а величины $v$ --- от 0,2% до 1,4%. Наименее точные измерения соответствуют наименьшим значениям $a$."
   ]
  },
  {
   "cell_type": "markdown",
   "metadata": {
    "pycharm": {
     "name": "#%% md\n"
    }
   },
   "source": [
    "Строим предварительный график:"
   ]
  },
  {
   "cell_type": "code",
   "execution_count": 19,
   "metadata": {
    "pycharm": {
     "name": "#%%\n"
    }
   },
   "outputs": [
    {
     "data": {
      "text/html": [
       "<html>\n",
       "  <head>\n",
       "    <meta charset=\"utf-8\">\n",
       "    <title>Plotly.kt</title>\n",
       "    <script type=\"text/javascript\" src=\"https://cdn.plot.ly/plotly-1.54.6.min.js\"></script>\n",
       "  </head>\n",
       "  <body>\n",
       "    <div id=\"graph_2\">\n",
       "      <script>if(typeof Plotly !== \"undefined\"){\n",
       "    Plotly.react(\n",
       "            'graph_2',\n",
       "            [{\"type\":\"scatter\",\"x\":[0.2116,0.17639999999999997,0.145161,0.1296,0.1024,0.08468099999999999,0.0625,0.04409999999999999,0.0324,0.019600000000000003,0.010000000000000002,0.004900000000000001],\"y\":[1.1933536711111112,1.0423035466666666,0.9192937333333335,0.853776,0.7556302222222222,0.6812018999999999,0.5882890000000001,0.5128046933333333,0.4665779999999999,0.41674851555555553,0.37791360000000007,0.36038527000000004]}],\n",
       "            {},\n",
       "            {}\n",
       "        );       \n",
       "} else {\n",
       "    console.error(\"Plotly not loaded\")\n",
       "}</script>\n",
       "    </div>\n",
       "  </body>\n",
       "</html>\n"
      ]
     },
     "execution_count": 19,
     "metadata": {
      "text/html": {
       "isolated": true
      }
     },
     "output_type": "execute_result"
    }
   ],
   "source": [
    "Plotly.page{ renderer -> \n",
    "    plot(\"graph_2\", renderer = renderer){\n",
    "        scatter { \n",
    "            x.set(v)\n",
    "            y.set(u)\n",
    "        }\n",
    "    }\n",
    "}"
   ]
  },
  {
   "cell_type": "markdown",
   "metadata": {
    "pycharm": {
     "name": "#%% md\n"
    }
   },
   "source": [
    "Видно, что график действительно имеет вид, близкий к прямой линии."
   ]
  },
  {
   "cell_type": "markdown",
   "metadata": {
    "pycharm": {
     "name": "#%% md\n"
    }
   },
   "source": [
    "Найдём коэффициенты наилучшей прямой по методу наименьших квадратов (МНК). Для простоты погрешности всех точек будем считать приблизительно одинаковыми. Тогда можно воспользоваться формулами\n",
    "\\begin{equation}\n",
    "k = \\frac{\\overline{uv}- \\bar{u}\\bar{v}}{\\bar{v^2}-\\bar{v}^2}, \\quad b = \\bar{u} - k \\bar{v}\n",
    "\\end{equation}"
   ]
  },
  {
   "cell_type": "code",
   "execution_count": 20,
   "metadata": {
    "pycharm": {
     "name": "#%%\n"
    }
   },
   "outputs": [
    {
     "name": "stdout",
     "output_type": "stream",
     "text": [
      "k = 4.01829503342771, b = 0.33801567301035357\n"
     ]
    }
   ],
   "source": [
    "val mu = u.average() // средее\n",
    "val mv = v.average()\n",
    "val mv2 = v.map{it.pow(2)}.average() // средний квадрат\n",
    "val mu2 = u.map{it.pow(2)}.average()\n",
    "val muv = (u zip v).map{it.first*it.second}.average() // среднее от произведения\n",
    "val k = (muv - mu * mv) / (mv2 - mv.pow(2))\n",
    "val b = mu - k * mv\n",
    "println(\"k = ${k}, b = ${b}\")"
   ]
  },
  {
   "cell_type": "markdown",
   "metadata": {
    "pycharm": {
     "name": "#%% md\n"
    }
   },
   "source": [
    "Изобразим на графике экспериментальные точки и полученную аппроксимирующую зависимость."
   ]
  },
  {
   "cell_type": "code",
   "execution_count": 21,
   "metadata": {
    "pycharm": {
     "name": "#%%\n"
    }
   },
   "outputs": [
    {
     "data": {
      "text/html": [
       "<html>\n",
       "  <head>\n",
       "    <meta charset=\"utf-8\">\n",
       "    <title>Plotly.kt</title>\n",
       "    <script type=\"text/javascript\" src=\"https://cdn.plot.ly/plotly-1.54.6.min.js\"></script>\n",
       "  </head>\n",
       "  <body>\n",
       "    <div id=\"graph_2\">\n",
       "      <script>if(typeof Plotly !== \"undefined\"){\n",
       "    Plotly.react(\n",
       "            'graph_2',\n",
       "            [{\"type\":\"scatter\",\"x\":[0.2116,0.17639999999999997,0.145161,0.1296,0.1024,0.08468099999999999,0.0625,0.04409999999999999,0.0324,0.019600000000000003,0.010000000000000002,0.004900000000000001],\"y\":[1.1933536711111112,1.0423035466666666,0.9192937333333335,0.853776,0.7556302222222222,0.6812018999999999,0.5882890000000001,0.5128046933333333,0.4665779999999999,0.41674851555555553,0.37791360000000007,0.36038527000000004],\"name\":\"Экспериментальные точки\",\"error_x\":{\"array\":[4.6E-4,4.2E-4,3.81E-4,3.5999999999999997E-4,3.2E-4,2.9099999999999997E-4,2.5E-4,2.1E-4,1.7999999999999998E-4,1.4000000000000001E-4,1.0E-4,7.000000000000001E-5]},\"error_y\":{\"array\":[0.009708420894372832,0.008681161426014453,0.007779459453789445,0.007296413017366809,0.006493858060778694,0.005899017871669089,0.005117211447305371,0.004432930807480071,0.003980249680924546,0.0034719255340362794,0.004231972230977752,0.004024703469546573]},\"marker\":{\"color\":\"black\",\"size\":0},\"mode\":\"markers\"},{\"type\":\"scatter\",\"x\":[0.0,1.0],\"y\":[0.33801567301035357,4.356310706438063],\"name\":\"$\\\\text{Линейная интерполяция}~u = 4.02 v + 0.34$\",\"line\":{\"color\":\"red\",\"dash\":\"dash\",\"width\":1},\"mode\":\"lines\"}],\n",
       "            {\"title\":{\"text\":\"$\\\\text{Рис.2. Наилучшая прямая для линеаризованной зависимости}~T(a)$\"},\"width\":700,\"height\":700,\"xaxis\":{\"title\":\"$v=a^2,~\\\\text{м}^2$\",\"range\":[0.0,0.25]},\"yaxis\":{\"title\":\"$u=T^2 a,~\\\\text{с}^2 \\\\cdot \\\\text{м}$\",\"range\":[0.0,1.3]}},\n",
       "            {}\n",
       "        );       \n",
       "} else {\n",
       "    console.error(\"Plotly not loaded\")\n",
       "}</script>\n",
       "    </div>\n",
       "  </body>\n",
       "</html>\n"
      ]
     },
     "execution_count": 21,
     "metadata": {
      "text/html": {
       "isolated": true
      }
     },
     "output_type": "execute_result"
    }
   ],
   "source": [
    "Plotly.page{ renderer -> \n",
    "    val plotConfig = PlotlyConfig{\n",
    "        responsive = true\n",
    "        imageFormat = \"svg\"\n",
    "    }\n",
    "    plot(\"graph_2\", renderer = renderer){\n",
    "        // точки с погрешностями\n",
    "        scatter {\n",
    "            x.set(v)\n",
    "            y.set(u)\n",
    "            name = \"Экспериментальные точки\" \n",
    "            error_x{\n",
    "                array = sigma_v\n",
    "            }\n",
    "            error_y{\n",
    "                array = sigma_u\n",
    "            }\n",
    "            marker{\n",
    "                color(\"black\")\n",
    "                size = 0\n",
    "            }\n",
    "            configure{\n",
    "                \"mode\" put \"markers\"\n",
    "            }\n",
    "            \n",
    "        }\n",
    "        // аппроксимация\n",
    "        scatter {\n",
    "            val xs = listOf(0.0, 1.0) // две точки аппроксимирующей прямой\n",
    "            x.set(xs)\n",
    "            y.set(xs.map { k*it + b })          \n",
    "            name = \"\\$\\\\text{Линейная интерполяция}~u = %.2f v + %.2f\\$\".format(k,b)\n",
    "            line{\n",
    "                color(\"red\")\n",
    "                dash = Dash.dash\n",
    "                width = 1\n",
    "            }\n",
    "            configure{\n",
    "                \"mode\" put \"lines\"\n",
    "            }\n",
    "        }\n",
    "        // минимум\n",
    "        layout{\n",
    "            title{ // заголовок\n",
    "                text = \"\\$\\\\text{Рис.2. Наилучшая прямая для линеаризованной зависимости}~T(a)\\$\"\n",
    "            } \n",
    "            width = 700\n",
    "            height = 700\n",
    "            // подписи к осям\n",
    "            xaxis{\n",
    "                title = \"\\$v=a^2,~\\\\text{м}^2\\$\"\n",
    "                range(0.0..0.25) // масштабы осей\n",
    "            }\n",
    "            yaxis{\n",
    "                title = \"\\$u=T^2 a,~\\\\text{с}^2 \\\\cdot \\\\text{м}\\$\"\n",
    "                range(0.0..1.3) // масштабы осей\n",
    "            }\n",
    "            \n",
    "        }\n",
    "    }\n",
    "}"
   ]
  },
  {
   "cell_type": "markdown",
   "metadata": {
    "pycharm": {
     "name": "#%% md\n"
    }
   },
   "source": [
    "Вычислим ускорение свободного падения:"
   ]
  },
  {
   "cell_type": "code",
   "execution_count": 22,
   "metadata": {
    "pycharm": {
     "name": "#%%\n"
    }
   },
   "outputs": [
    {
     "name": "stdout",
     "output_type": "stream",
     "text": [
      "g = 9.825\n"
     ]
    }
   ],
   "source": [
    "val g = 4 * PI.pow(2) / k\n",
    "println(\"g = %.3f\".format(g))"
   ]
  },
  {
   "cell_type": "markdown",
   "metadata": {
    "pycharm": {
     "name": "#%% md\n"
    }
   },
   "source": [
    "По величине свободного слагаемого проверим длину стержня: "
   ]
  },
  {
   "cell_type": "code",
   "execution_count": 23,
   "metadata": {
    "pycharm": {
     "name": "#%%\n"
    }
   },
   "outputs": [
    {
     "name": "stdout",
     "output_type": "stream",
     "text": [
      "L = 1.009 м\n"
     ]
    }
   ],
   "source": [
    "val L = (3 * b * g) /  PI.pow(2)\n",
    "println(\"L = %.3f м\".format(L))"
   ]
  },
  {
   "cell_type": "markdown",
   "metadata": {
    "pycharm": {
     "name": "#%% md\n"
    }
   },
   "source": [
    "Видно, что она совпадает с измеренной непосредственно $l=1000$ мм с точностью 0,9% (в пределах погрешности опыта)."
   ]
  },
  {
   "cell_type": "markdown",
   "metadata": {
    "pycharm": {
     "name": "#%% md\n"
    }
   },
   "source": [
    "Вычислим случайные погрешности определения коэффициентов прямой: \n",
    "\\begin{equation}\n",
    "\\sigma_k = \\sqrt{\\frac{1}{N-2} \\left(\\frac{\\overline{y^2}-\\bar{y}^2}{\\overline{x^2} - \\bar{x}^2}-k^2\\right)},\\qquad \\sigma_b = \\sigma_k \\sqrt{\\overline{x^2}}\n",
    "\\end{equation}\n",
    "и из них --- случайную погрешность измерения $g$ и $L$."
   ]
  },
  {
   "cell_type": "code",
   "execution_count": 24,
   "metadata": {
    "pycharm": {
     "name": "#%%\n"
    }
   },
   "outputs": [
    {
     "name": "stdout",
     "output_type": "stream",
     "text": [
      "sigma_k = 0.016, sigma_b = 0.002\n",
      "sigma_g = 0.040, sigma_L = 0.007\n"
     ]
    }
   ],
   "source": [
    "val N = v.size // число точек\n",
    "val sigma_k = sqrt(( (mu2 - mu.pow(2))/(mv2 - mv.pow(2)) - k.pow(2))/(N-2))\n",
    "val sigma_b = sigma_k * sqrt(mv2)\n",
    "val sigma_g = sigma_k / k * g\n",
    "val sigma_L = L * sqrt( (sigma_b / b).pow(2) + (sigma_g / g).pow(2) )\n",
    "println(\"sigma_k = %.3f, sigma_b = %.3f\".format(sigma_k, sigma_b))\n",
    "println(\"sigma_g = %.3f, sigma_L = %.3f\".format(sigma_g, sigma_L))"
   ]
  },
  {
   "cell_type": "markdown",
   "metadata": {
    "pycharm": {
     "name": "#%% md\n"
    }
   },
   "source": [
    "Окончательный результат для ускорения свободного падения:\n",
    "    \\begin{equation}\n",
    "    g = 9{,}82 \\pm 0{,}04 \\; м/с^2.\n",
    "    \\end{equation}\n",
    "Длина стержня, определённая как параметр теоретической зависимости:\n",
    "\\begin{equation}\n",
    "L = 1009 \\pm 7\\; мм.\n",
    "\\end{equation}"
   ]
  },
  {
   "cell_type": "markdown",
   "metadata": {
    "pycharm": {
     "name": "#%% md\n"
    }
   },
   "source": [
    "### Проверка качества аппроксимации по сумме хи-квадрат"
   ]
  },
  {
   "cell_type": "markdown",
   "metadata": {
    "pycharm": {
     "name": "#%% md\n"
    }
   },
   "source": [
    "Для проверки точности аппроксимации, вычислим сумму $\\chi^2$:\n",
    "\\begin{equation}\n",
    "\\chi^2 = \\sum \\left(\\frac{\\Delta u}{\\sigma_u}\\right)^2\n",
    "\\end{equation}"
   ]
  },
  {
   "cell_type": "code",
   "execution_count": 25,
   "metadata": {
    "pycharm": {
     "name": "#%%\n"
    }
   },
   "outputs": [
    {
     "name": "stdout",
     "output_type": "stream",
     "text": [
      "chi_2 = 3.165271091628497, chi_2/doF = 0.3165271091628497\n"
     ]
    }
   ],
   "source": [
    "val chi2 = List(u.size){ i ->\n",
    "    ((u[i] - (k * v[i] + b)) / sigma_u[i]).pow(2)\n",
    "}.sum()\n",
    "val doF = N -2\n",
    "println(\"chi_2 = ${chi2}, chi_2/doF = ${ chi2 / doF}\")"
   ]
  },
  {
   "cell_type": "markdown",
   "metadata": {
    "pycharm": {
     "name": "#%% md\n"
    }
   },
   "source": [
    "Нормированная (на число степеней свободы) величина $\\chi^2/(N-2) \\approx 0{,}3 < 1$ показывает, что выполненная аппроксимация является удовлетворительной (при этом оценка погрешностей по вертикальной оси несколько завышена)."
   ]
  },
  {
   "cell_type": "markdown",
   "metadata": {
    "pycharm": {
     "name": "#%% md\n"
    }
   },
   "source": [
    "Вероятность $P$ того, что в опыте обнаружено отклонение от теоретической зависимости, можно вычислить по значению \"распределения хи-квадрат\". Данная функция распределения реализована в пакете scipy.stats."
   ]
  },
  {
   "cell_type": "code",
   "execution_count": 23,
   "metadata": {
    "pycharm": {
     "name": "#%%\n"
    }
   },
   "outputs": [
    {
     "name": "stderr",
     "output_type": "stream",
     "text": [
      "Line_24.jupyter-kts (1:11 - 12) Expecting an element\n",
      "Line_24.jupyter-kts (1:30 - 32) Expecting an element\n",
      "Line_24.jupyter-kts (1:41 - 41) Expecting an element\n",
      "Line_24.jupyter-kts (2:1 - 2) Expecting an element\n",
      "Line_24.jupyter-kts (2:69 - 69) Expecting an element\n",
      "Line_24.jupyter-kts (2:69 - 70) Expecting an element\n",
      "Line_24.jupyter-kts (2:87 - 88) Expecting an element\n",
      "Line_24.jupyter-kts (2:166 - 166) Expecting an element"
     ]
    }
   ],
   "source": [
    "import org.apache.commons.math3.distribution.ChiSquaredDistribution\n",
    "// \"кумулятивная функция распределения\" (cdf) задаёт вероятность того, что величина chi^2 случайно превысит заданное значение (при заданном числе степеней свободы doF)\n",
    "p_value = chi2dist.cdf(chi2, doF)\n",
    "println(\"P-value = %.1f\\%\".format(p_value * 100))"
   ]
  },
  {
   "cell_type": "markdown",
   "metadata": {
    "pycharm": {
     "name": "#%% md\n"
    }
   },
   "source": [
    "Таким образом, вероятность того, что в опыте обнаружено отклонение от теории, составляет $P=2{,}3\\%$."
   ]
  },
  {
   "cell_type": "markdown",
   "metadata": {
    "pycharm": {
     "name": "#%% md\n"
    }
   },
   "source": [
    "## ДОПОЛНЕНИЕ. Нелинейная аппроксимация по методу минимума хи-квадрат\n",
    "\n",
    "_Это дополнение не является обязательной частью учебного задания. Здесь продемонстрировано, как можно обработать результаты эксперимента, не прибегая к линеаризации графика. Мы вычислим параметры эксперимента с помощью нелинейного метода минимизации суммы хи-квадрат (известный также под названием \"МНК с весами\"), используя функцию_ curve_fit _пакета_ scipy.optimize."
   ]
  },
  {
   "cell_type": "code",
   "execution_count": 24,
   "metadata": {
    "pycharm": {
     "name": "#%%\n"
    }
   },
   "outputs": [
    {
     "name": "stderr",
     "output_type": "stream",
     "text": [
      "Line_25.jupyter-kts (1:11 - 12) Expecting an element\n",
      "Line_25.jupyter-kts (1:37 - 37) Expecting an element"
     ]
    }
   ],
   "source": [
    "from scipy.optimize import curve_fit"
   ]
  },
  {
   "cell_type": "markdown",
   "metadata": {
    "pycharm": {
     "name": "#%% md\n"
    }
   },
   "source": [
    "Зададим теоретическую зависимость как функцию $T(a)$, считая величины $g$ и $l$ параметрами модели:\n",
    "\\begin{equation}\n",
    "T(a ; g, l) = 2\\pi \\sqrt{\\frac{l^2/12 + a^2}{g a}}\n",
    "\\end{equation}"
   ]
  },
  {
   "cell_type": "code",
   "execution_count": 27,
   "metadata": {
    "pycharm": {
     "name": "#%%\n"
    }
   },
   "outputs": [],
   "source": [
    "val f = {x: Double, g: Double, l: Double ->\n",
    "    2 * PI * sqrt( (l.pow(2) / 12 + x.pow(2)) / (g * x) )}"
   ]
  },
  {
   "cell_type": "markdown",
   "metadata": {
    "pycharm": {
     "name": "#%% md\n"
    }
   },
   "source": [
    "Воспользуемся функцией curve_fit для подбора оптимальных параметров. Данный метод численно минимизирует сумму \n",
    "\\begin{equation}\n",
    "\\sum_{i=1}^N \\left(\\frac{T_i - T(a_i;g,l)}{\\sigma_{Ti}}\\right)^2\n",
    "\\end{equation}\n",
    "Результатом является набор оптимальных параметров $(g, l)$, и \"ковариационная матрица\" (диагональные элементы которой равны дисперсии соответствующего параметра)."
   ]
  },
  {
   "cell_type": "code",
   "execution_count": 26,
   "metadata": {
    "pycharm": {
     "name": "#%%\n"
    }
   },
   "outputs": [
    {
     "name": "stderr",
     "output_type": "stream",
     "text": [
      "Line_27.jupyter-kts (1:5 - 6) Expecting an element\n",
      "Line_27.jupyter-kts (1:48 - 49) Expecting an element\n",
      "Line_27.jupyter-kts (1:102 - 102) Expecting an element"
     ]
    }
   ],
   "source": [
    "popt, pcov = curve_fit(f, a, T, sigma=sigma_T) # sigma задаёт погрешности каждой точки по оси ординат"
   ]
  },
  {
   "cell_type": "code",
   "execution_count": 27,
   "metadata": {
    "pycharm": {
     "name": "#%%\n"
    }
   },
   "outputs": [
    {
     "name": "stderr",
     "output_type": "stream",
     "text": [
      "Line_28.jupyter-kts (1:1 - 2) Expecting an element\n",
      "Line_28.jupyter-kts (2:2 - 3) Expecting an element"
     ]
    }
   ],
   "source": [
    "# оптимальные параметры содержаться в массиве popt\n",
    "g, l = popt\n",
    "print(g, l)"
   ]
  },
  {
   "cell_type": "code",
   "execution_count": 28,
   "metadata": {
    "pycharm": {
     "name": "#%%\n"
    }
   },
   "outputs": [
    {
     "name": "stderr",
     "output_type": "stream",
     "text": [
      "Line_29.jupyter-kts (1:1 - 2) Expecting an element\n",
      "Line_29.jupyter-kts (2:8 - 9) Expecting an element\n",
      "Line_29.jupyter-kts (3:8 - 8) Expecting ','\n",
      "Line_29.jupyter-kts (3:23 - 23) Expecting ','"
     ]
    }
   ],
   "source": [
    "# Случайные погрешности параметров -- это диагональные элементы \"ковариационной\" матрицы pcov\n",
    "sigma_g, sigma_l = np.sqrt(np.diag(pcov))\n",
    "print(f\"{sigma_g=}\", f\"{sigma_l=}\")"
   ]
  },
  {
   "cell_type": "markdown",
   "metadata": {
    "pycharm": {
     "name": "#%% md\n"
    }
   },
   "source": [
    "Изобразим на графике результат нелинейной аппроксимации, наложенный на экспериментальные точки."
   ]
  },
  {
   "cell_type": "code",
   "execution_count": null,
   "metadata": {},
   "outputs": [],
   "source": [
    "Plotly.page{ renderer -> \n",
    "    val plotConfig = PlotlyConfig{\n",
    "        responsive = true\n",
    "        imageFormat = \"svg\"\n",
    "    }\n",
    "    plot(\"graph_1\", renderer = renderer){\n",
    "        // точки с погрешностями\n",
    "        scatter {\n",
    "            x.set(a)\n",
    "            y.set(T)\n",
    "            name = \"Экспериментальные точки\" \n",
    "            error_x{\n",
    "                value = sigma_a\n",
    "            }\n",
    "            error_y{\n",
    "                array = sigma_T\n",
    "            }\n",
    "            marker{\n",
    "                color(\"black\")\n",
    "                size = 0\n",
    "            }\n",
    "            configure{\n",
    "                \"mode\" put \"markers\"\n",
    "            }\n",
    "            \n",
    "        }\n",
    "        // аппроксимация\n",
    "        x = List(50){i -> 0.01 + i*0.01}\n",
    "        scatter {\n",
    "            x.set(x)\n",
    "            y.set(x.map{f(it, g, l)})            \n",
    "            name = \"\\$\\\\text{Нелинейная аппроксимация}~u = %.2f v + %.3f\\$\".format(g,l)\n",
    "            line{\n",
    "                color(\"red\")\n",
    "                dash = Dash.dash\n",
    "            }\n",
    "            configure{\n",
    "                \"mode\" put \"lines\"\n",
    "            }\n",
    "        }\n",
    "        layout{\n",
    "            title{ // заголовок\n",
    "                text = \"\\$\\\\text{Рис.3. Зависимость периода}~T~\\\\text{от положения призмы}~a:\\\\text{ нелинейная аппроксимация}\\$\"\n",
    "            } \n",
    "            width = 700\n",
    "            height = 700\n",
    "            // подписи к осям\n",
    "            xaxis{\n",
    "                title = \"\\$a,~\\\\text{м}\\$\"\n",
    "                range(0.0..0.5) // масштабы осей\n",
    "            }\n",
    "            yaxis{\n",
    "                title = \"\\$T,~\\\\text{с}\\$\"\n",
    "                range(1.4..2.5) // масштабы осей\n",
    "            }\n",
    "            \n",
    "        }\n",
    "    }\n",
    "}"
   ]
  },
  {
   "cell_type": "markdown",
   "metadata": {
    "pycharm": {
     "name": "#%% md\n"
    }
   },
   "source": [
    "Результат нелинейной аппроксимации:\n",
    "\\begin{equation}\n",
    "g = 9{,}84 \\pm 0{,}04\\; \\text{м}/\\text{с}^2,\\qquad l = 1{,}006 \\pm 0{,}003\\;\\text{м}\n",
    "\\end{equation}"
   ]
  },
  {
   "cell_type": "markdown",
   "metadata": {
    "pycharm": {
     "name": "#%% md\n"
    }
   },
   "source": [
    "Из теоретической зависимости при найденных $g$ и $l$ определим минимальное значение периода:"
   ]
  },
  {
   "cell_type": "code",
   "execution_count": 30,
   "metadata": {
    "pycharm": {
     "name": "#%%\n"
    }
   },
   "outputs": [
    {
     "name": "stderr",
     "output_type": "stream",
     "text": [
      "Line_31.jupyter-kts (1:13 - 14) Expecting an element\n",
      "Line_31.jupyter-kts (1:14 - 14) Expecting ','"
     ]
    }
   ],
   "source": [
    "T_min = f(l**2/np.sqrt(12), g, l)\n",
    "print(\"T_min = %.3f с\" % T_min)"
   ]
  },
  {
   "cell_type": "markdown",
   "metadata": {
    "pycharm": {
     "name": "#%% md\n"
    }
   },
   "source": [
    "Вычислим сумму $\\chi^2$ и её нормировку на число степеней свободы:"
   ]
  },
  {
   "cell_type": "code",
   "execution_count": 31,
   "metadata": {
    "pycharm": {
     "name": "#%%\n"
    }
   },
   "outputs": [
    {
     "name": "stderr",
     "output_type": "stream",
     "text": [
      "Line_32.jupyter-kts (1:47 - 48) Expecting an element\n",
      "Line_32.jupyter-kts (1:48 - 48) Expecting ','"
     ]
    }
   ],
   "source": [
    "chi2 = np.sum( ( (T - f(a, g, l)) / sigma_T )**2 )\n",
    "print(\"chi_2 = \", chi2, \", chi_2/doF = \", chi2 / (len(a)-2))\n",
    "p_value = chi2dist.cdf(chi2, doF)\n",
    "print(\"P-value = {:.1f}%\".format(p_value * 100))"
   ]
  },
  {
   "cell_type": "markdown",
   "metadata": {
    "pycharm": {
     "name": "#%% md\n"
    }
   },
   "source": [
    "Поскольку $\\chi^2 / (N - 2) \\lesssim 1$, аппроксимация является удовлетворительной. Оценка величины погрешностей $\\sigma_T$ несколько завышена."
   ]
  }
 ],
 "metadata": {
  "kernelspec": {
   "display_name": "Kotlin",
   "language": "kotlin",
   "name": "kotlin"
  },
  "language_info": {
   "codemirror_mode": "text/x-kotlin",
   "file_extension": ".kt",
   "mimetype": "text/x-kotlin",
   "name": "kotlin",
   "nbconvert_exporter": "",
   "pygments_lexer": "kotlin",
   "version": "1.8.0-dev-3517"
  }
 },
 "nbformat": 4,
 "nbformat_minor": 4
}
