{
 "cells": [
  {
   "cell_type": "markdown",
   "metadata": {
    "pycharm": {
     "name": "#%% md\n"
    }
   },
   "source": [
    "# Работа 1.4.1. Изучение колебаний физического маятника\n",
    "---\n",
    "Образец обработки экспериментальных данных\n",
    "----------------------------------------\n",
    "\n",
    "Данный документ представляет собой пример обработки результатов измерений и построения графиков с помощью библиотек языка Python. В работе измеряется период колебаний физического маятника в форме сплошного стержня. Изучается зависимость периода от расстояния до точки подвеса. По измеренной зависимости проверяется теоретическая модель и вычисляется ускорение свободного падения."
   ]
  },
  {
   "cell_type": "code",
   "execution_count": 1,
   "metadata": {
    "pycharm": {
     "name": "#%%\n"
    }
   },
   "outputs": [],
   "source": [
    "# импорт библиотек \n",
    "import numpy as np # для обработки данных\n",
    "import matplotlib.pyplot as plt # для построения графиков"
   ]
  },
  {
   "cell_type": "markdown",
   "metadata": {
    "pycharm": {
     "name": "#%% md\n"
    }
   },
   "source": [
    "## Определение погрешности измерения времени. Выбор оптимального времени измерений.\n",
    "\n",
    "Измерим время \\$n = 20$ колебаний маятника при некотором фиксированном положении подвесной призмы. Повторим измерения 8 раз и вычислим среднеквадратичное отклонение."
   ]
  },
  {
   "cell_type": "markdown",
   "metadata": {
    "pycharm": {
     "name": "#%% md\n"
    }
   },
   "source": [
    "Результаты предварительных измерений:"
   ]
  },
  {
   "cell_type": "code",
   "execution_count": 2,
   "metadata": {
    "pycharm": {
     "name": "#%%\n"
    }
   },
   "outputs": [],
   "source": [
    "t0 = [30.55, 30.78, 30.75, 30.64, 30.57, 30.71, 30.51, 30.65] # время 20 колебаний, [с]"
   ]
  },
  {
   "cell_type": "markdown",
   "metadata": {
    "pycharm": {
     "name": "#%% md\n"
    }
   },
   "source": [
    "Вычисляем случайную погрешность как среднеквадратичое отклонение результатов от среднего:\n",
    "\\begin{equation}\n",
    "\\sigma_t = \\sqrt{\\frac{1}{N-1} \\sum (t_i - \\bar{t})^2}\n",
    "\\end{equation}"
   ]
  },
  {
   "cell_type": "code",
   "execution_count": 3,
   "metadata": {
    "scrolled": true,
    "pycharm": {
     "name": "#%%\n"
    }
   },
   "outputs": [
    {
     "name": "stdout",
     "output_type": "stream",
     "text": [
      "t_mean =  30.645 ; sigma_t = 0.097\n"
     ]
    }
   ],
   "source": [
    "mean = np.mean(t0) # среднее\n",
    "N = len(t0) # число опытов\n",
    "sigma_t = np.sqrt( 1 / (N - 1) * np.sum( (t0 - mean)**2 ) ) \n",
    "# тот же результат даёт встроенная функция \n",
    "# np.std(t0, ddof=1)\n",
    "print(\"t_mean = \", mean, \"; sigma_t = %.3f\" % sigma_t)"
   ]
  },
  {
   "cell_type": "markdown",
   "metadata": {
    "pycharm": {
     "name": "#%% md\n"
    }
   },
   "source": [
    "Таким образом, случайная погрешность измерения полного времени составила $\\sigma_t = 0{,}10$ с (инструментальная погрешность секундомера 0,01 c и ей можно пренебречь по сравнению с $\\sigma_t$). \n",
    "\n",
    "Будем считать, что основной источник погрешности измерения времени -- реакция экспериментатора. Предположим, что задержка реакции человека практически  зависит от полного времени измерения. Тогда исходя требуемой для опыта относительной точности $\\varepsilon = 0{,}5$%, вычислим необходимое полное время измерений:\n",
    "\\begin{equation}\n",
    "t = \\frac{\\sigma_t}{\\varepsilon} \n",
    "\\approx 20\\;с\n",
    "\\end{equation}\n",
    "\n",
    "Таким образом, при периоде $T \\sim1{,}5$ с достаточно провести измерение времени $n = \\frac{t}{T} \\sim 13$ колебаний."
   ]
  },
  {
   "cell_type": "markdown",
   "metadata": {
    "pycharm": {
     "name": "#%% md\n"
    }
   },
   "source": [
    "## Измерение зависимости периода колебаний от положения подвесной призмы\n",
    "\n",
    "Проводим измерение времени $t$ для $n$ колебаний для различных расстояний $a$ (расстояние от подвесной призмы до центра масс стержня)."
   ]
  },
  {
   "cell_type": "markdown",
   "metadata": {
    "pycharm": {
     "name": "#%% md\n"
    }
   },
   "source": [
    "### Данные эксперимента"
   ]
  },
  {
   "cell_type": "markdown",
   "metadata": {
    "pycharm": {
     "name": "#%% md\n"
    }
   },
   "source": [
    "Длина стержня:"
   ]
  },
  {
   "cell_type": "code",
   "execution_count": 4,
   "metadata": {
    "pycharm": {
     "name": "#%%\n"
    }
   },
   "outputs": [],
   "source": [
    "l = 1.000 # м"
   ]
  },
  {
   "cell_type": "markdown",
   "metadata": {
    "pycharm": {
     "name": "#%% md\n"
    }
   },
   "source": [
    "Расстояния до подвеса (от центра масс стержня):"
   ]
  },
  {
   "cell_type": "code",
   "execution_count": 5,
   "metadata": {
    "pycharm": {
     "name": "#%%\n"
    }
   },
   "outputs": [],
   "source": [
    "a = np.array([460.0, 420.0, 381.0, 360.0, 320.0, 291.0, 250.0, 210.0, 180.0, 140.0, 100.0, 70.0]) # [мм]\n",
    "a = a / 1e3 # перевод в [м]\n",
    "N = len(a) # число точек"
   ]
  },
  {
   "cell_type": "markdown",
   "metadata": {
    "pycharm": {
     "name": "#%% md\n"
    }
   },
   "source": [
    "Количество измеренных колебаний:"
   ]
  },
  {
   "cell_type": "code",
   "execution_count": 6,
   "metadata": {
    "pycharm": {
     "name": "#%%\n"
    }
   },
   "outputs": [],
   "source": [
    "n = np.array([15, 15, 15, 15, 15, 15, 15, 15, 15, 15, 10, 10])"
   ]
  },
  {
   "cell_type": "markdown",
   "metadata": {
    "pycharm": {
     "name": "#%% md\n"
    }
   },
   "source": [
    "Измеренное время, [с]:"
   ]
  },
  {
   "cell_type": "code",
   "execution_count": 7,
   "metadata": {
    "pycharm": {
     "name": "#%%\n"
    }
   },
   "outputs": [],
   "source": [
    "t = np.array([24.16, 23.63, 23.30, 23.10, 23.05, 22.95, 23.01, 23.44, 24.15, 25.88, 19.44, 22.69])"
   ]
  },
  {
   "cell_type": "markdown",
   "metadata": {
    "pycharm": {
     "name": "#%% md\n"
    }
   },
   "source": [
    "Периоды колебаний, [с]:"
   ]
  },
  {
   "cell_type": "code",
   "execution_count": 8,
   "metadata": {
    "pycharm": {
     "name": "#%%\n"
    }
   },
   "outputs": [
    {
     "name": "stdout",
     "output_type": "stream",
     "text": [
      "[1.61066667 1.57533333 1.55333333 1.54       1.53666667 1.53\n",
      " 1.534      1.56266667 1.61       1.72533333 1.944      2.269     ]\n"
     ]
    }
   ],
   "source": [
    "T = np.array(t) / n\n",
    "print (T)"
   ]
  },
  {
   "cell_type": "markdown",
   "metadata": {
    "pycharm": {
     "name": "#%% md\n"
    }
   },
   "source": [
    "### Оценка погрешностей исходных данных"
   ]
  },
  {
   "cell_type": "markdown",
   "metadata": {
    "pycharm": {
     "name": "#%% md\n"
    }
   },
   "source": [
    "Погрешности измерений: для длины $\\sigma_a = 0{,}5$ мм (половина цены деления линейки), для периода $\\sigma_T = \\sigma_t/t\\cdot T=\\sigma_t / n$"
   ]
  },
  {
   "cell_type": "code",
   "execution_count": 9,
   "metadata": {
    "pycharm": {
     "name": "#%%\n"
    }
   },
   "outputs": [
    {
     "name": "stdout",
     "output_type": "stream",
     "text": [
      "[0.00649298 0.00649298 0.00649298 0.00649298 0.00649298 0.00649298\n",
      " 0.00649298 0.00649298 0.00649298 0.00649298 0.00973946 0.00973946]\n"
     ]
    }
   ],
   "source": [
    "sigma_a = 0.5e-3\n",
    "sigma_T = sigma_t / t * T\n",
    "print(sigma_T)"
   ]
  },
  {
   "cell_type": "markdown",
   "metadata": {
    "pycharm": {
     "name": "#%% md\n"
    }
   },
   "source": [
    "### Предварительное вычисление g"
   ]
  },
  {
   "cell_type": "markdown",
   "metadata": {
    "pycharm": {
     "name": "#%% md\n"
    }
   },
   "source": [
    "Если предположить, что справедлива теоретическая зависимость \n",
    "\\begin{equation}\n",
    "T = 2\\pi \\sqrt{ \\frac{l^2/12 + a^2}{g a} },\n",
    "\\end{equation}\n",
    "то ускорение свободного падения можно найти непосредственно по данной формуле. Выразим отсюда g:"
   ]
  },
  {
   "cell_type": "code",
   "execution_count": 10,
   "metadata": {
    "pycharm": {
     "name": "#%%\n"
    }
   },
   "outputs": [
    {
     "name": "stdout",
     "output_type": "stream",
     "text": [
      "[9.75695771 9.83769175 9.81252714 9.84599128 9.70376499 9.7371132\n",
      " 9.78646419 9.81049202 9.79250814 9.75083286 9.749986   9.66552373]\n",
      "g_mean = 9.771\n"
     ]
    }
   ],
   "source": [
    "gs = 4 * np.pi**2 * ( l**2 / 12 + a**2 ) / (a * T**2)\n",
    "gm = np.mean(gs)\n",
    "print(gs)\n",
    "print(\"g_mean = %.3f\" % gm)"
   ]
  },
  {
   "cell_type": "markdown",
   "metadata": {
    "pycharm": {
     "name": "#%% md\n"
    }
   },
   "source": [
    "Случайную погрешность среднего найдём как стандартное отклонение, делённое на $\\sqrt{N}$:"
   ]
  },
  {
   "cell_type": "code",
   "execution_count": 11,
   "metadata": {
    "pycharm": {
     "name": "#%%\n"
    }
   },
   "outputs": [
    {
     "name": "stdout",
     "output_type": "stream",
     "text": [
      "sigma_gm = 0.015\n"
     ]
    }
   ],
   "source": [
    "sigma_gm = np.std(gs) / np.sqrt(N)\n",
    "print(\"sigma_gm = %.3f\" % sigma_gm)"
   ]
  },
  {
   "cell_type": "markdown",
   "metadata": {
    "pycharm": {
     "name": "#%% md\n"
    }
   },
   "source": [
    "Окончательный результат по данному методу:\n",
    "\\begin{equation}\n",
    "\\bar{g} = 9{,}771 \\pm 0,015\\; м/с^2\n",
    "\\end{equation}"
   ]
  },
  {
   "cell_type": "markdown",
   "metadata": {
    "pycharm": {
     "name": "#%% md\n"
    }
   },
   "source": [
    "Заметим, что данный результат _не может считаться надёжным_ , поскольку справедливость теоретичской зависимости ещё не была проверена. Кроме того, усреднение _разнородных_ измерений (при разных значениях параметра $a$) в общем случае **не является корректным**. "
   ]
  },
  {
   "cell_type": "markdown",
   "metadata": {
    "pycharm": {
     "name": "#%% md\n"
    }
   },
   "source": [
    "### Построение графика $T(a)$ и определение минимума периода\n",
    "Построим график зависимости периода колебаний от положений призмы $T(a)$"
   ]
  },
  {
   "cell_type": "code",
   "execution_count": 12,
   "metadata": {
    "pycharm": {
     "name": "#%%\n"
    }
   },
   "outputs": [
    {
     "data": {
      "text/plain": [
       "<matplotlib.legend.Legend at 0x7efe7e1754e0>"
      ]
     },
     "execution_count": 12,
     "metadata": {},
     "output_type": "execute_result"
    },
    {
     "data": {
      "image/png": "[encoded data removed]",
      "text/plain": [
       "<Figure size 800x600 with 1 Axes>"
      ]
     },
     "metadata": {
      "needs_background": "light"
     },
     "output_type": "display_data"
    }
   ],
   "source": [
    "plt.figure(figsize=(8,6), dpi=100) # размер графика\n",
    "plt.ylabel(\"$T$, с\") # подписи к осям\n",
    "plt.xlabel(\"$a$, м\")\n",
    "plt.xlim([0, 0.5])\n",
    "plt.title('Рис.1. График зависимости периода $T$ от положения призмы $a$') # заголовок\n",
    "plt.grid(True, linestyle=\"--\") # пунктирная сетка\n",
    "plt.errorbar(a, T, xerr=sigma_a, yerr=sigma_T, fmt=\".k\", label=\"Экспериментальные точки\") # точки с погрешностями\n",
    "plt.plot(a, T, \"--r\", linewidth=1, label=\"Кусочно линейная интерполяция\") # интерполяция\n",
    "plt.plot([0.00,0.5], [1.53, 1.53], \"--b\", linewidth=1, label=\"Минимум\") # минимум\n",
    "plt.legend() # легенда"
   ]
  },
  {
   "cell_type": "markdown",
   "metadata": {
    "pycharm": {
     "name": "#%% md\n"
    }
   },
   "source": [
    "По графику визуально определяем приблизительное положение минимума: $T_{min} \\approx 1{,}53 \\pm 0{,}2$ с, $a_{min} \\approx 280 \\pm 30$ мм.\n",
    "\n",
    "Теоретическое значение минимума: $a_{min} = \\frac{l}{\\sqrt{12}} \\approx 289$ мм (где $l = 1000$ мм -- длина стержня) совпадает с экспериментальным в пределах погрешности."
   ]
  },
  {
   "cell_type": "markdown",
   "metadata": {
    "pycharm": {
     "name": "#%% md\n"
    }
   },
   "source": [
    "## Построение линеаризованного графика и определение ускорения свободного падения"
   ]
  },
  {
   "cell_type": "markdown",
   "metadata": {
    "pycharm": {
     "name": "#%% md\n"
    }
   },
   "source": [
    "Согласно теории, зависимость периода от положения призмы может быть представлена в виде\n",
    "\\begin{equation}\n",
    "T^2 a = \\frac{4\\pi^2}{g} \\left(\\frac{l^2}{12} + a^2\\right).\n",
    "\\end{equation}\n",
    "\n",
    "Построим график в координатах $u(v)$, где $u= T^2 a$ и $v = a^2$. Тогда теоретическая зависимость примет вид\n",
    "\\begin{equation}\n",
    "u = k v + b,\\quad где \\quad k = \\frac{4\\pi^2}{g},\\; b = \\frac{\\pi^2 l^2}{3g}.\n",
    "\\end{equation}"
   ]
  },
  {
   "cell_type": "code",
   "execution_count": 13,
   "metadata": {
    "pycharm": {
     "name": "#%%\n"
    }
   },
   "outputs": [
    {
     "name": "stdout",
     "output_type": "stream",
     "text": [
      "u =  [1.19335367 1.04230355 0.91929373 0.853776   0.75563022 0.6812019\n",
      " 0.588289   0.51280469 0.466578   0.41674852 0.3779136  0.36038527] \n",
      "v =  [0.2116   0.1764   0.145161 0.1296   0.1024   0.084681 0.0625   0.0441\n",
      " 0.0324   0.0196   0.01     0.0049  ]\n"
     ]
    }
   ],
   "source": [
    "u = T**2 * a\n",
    "v = a**2\n",
    "print(\"u = \", u, \"\\nv = \", v)"
   ]
  },
  {
   "cell_type": "markdown",
   "metadata": {
    "pycharm": {
     "name": "#%% md\n"
    }
   },
   "source": [
    "### Оценка погрешностей точек"
   ]
  },
  {
   "cell_type": "markdown",
   "metadata": {
    "pycharm": {
     "name": "#%% md\n"
    }
   },
   "source": [
    "Предварительно рассчитаем погрешности каждой точки. Согласно формулам расчёта косвенных погрешностей, имеем $\\sigma_u/u = \\sqrt{(2\\sigma_T/T)^2 + (\\sigma_a/a)^2}$, $\\sigma_v = 2 a \\sigma_a$:"
   ]
  },
  {
   "cell_type": "code",
   "execution_count": 14,
   "metadata": {
    "pycharm": {
     "name": "#%%\n"
    }
   },
   "outputs": [],
   "source": [
    "sigma_u = u * np.sqrt(4 * (sigma_T / T)**2 + (sigma_a/a)**2)\n",
    "sigma_v = 2 * a * sigma_a"
   ]
  },
  {
   "cell_type": "markdown",
   "metadata": {
    "pycharm": {
     "name": "#%% md\n"
    }
   },
   "source": [
    "Вычислим относительные погрешности и убедимся, что все они малы:"
   ]
  },
  {
   "cell_type": "code",
   "execution_count": 15,
   "metadata": {
    "pycharm": {
     "name": "#%%\n"
    }
   },
   "outputs": [
    {
     "name": "stdout",
     "output_type": "stream",
     "text": [
      "[0.00813541 0.00832882 0.00846243 0.00854605 0.00859396 0.00865972\n",
      " 0.00869847 0.00864448 0.00853073 0.00833098 0.01119825 0.01116778] \n",
      " [0.00217391 0.00238095 0.00262467 0.00277778 0.003125   0.00343643\n",
      " 0.004      0.0047619  0.00555556 0.00714286 0.01       0.01428571]\n"
     ]
    }
   ],
   "source": [
    "print(sigma_u/u, '\\n', sigma_v/v) # относительные погрешности"
   ]
  },
  {
   "cell_type": "markdown",
   "metadata": {
    "pycharm": {
     "name": "#%% md\n"
    }
   },
   "source": [
    "Видим, что относительная погрешность величины $u$ составляет от 0,8% до 1,1%, а величины $v$ --- от 0,2% до 1,4%. Наименее точные измерения соответствуют наименьшим значениям $a$."
   ]
  },
  {
   "cell_type": "markdown",
   "metadata": {
    "pycharm": {
     "name": "#%% md\n"
    }
   },
   "source": [
    "Строим предварительный график:"
   ]
  },
  {
   "cell_type": "code",
   "execution_count": 16,
   "metadata": {
    "pycharm": {
     "name": "#%%\n"
    }
   },
   "outputs": [
    {
     "data": {
      "text/plain": [
       "[<matplotlib.lines.Line2D at 0x7efe7ddaf580>]"
      ]
     },
     "execution_count": 16,
     "metadata": {},
     "output_type": "execute_result"
    },
    {
     "data": {
      "image/png": "[encoded data removed]",
      "text/plain": [
       "<Figure size 432x288 with 1 Axes>"
      ]
     },
     "metadata": {
      "needs_background": "light"
     },
     "output_type": "display_data"
    }
   ],
   "source": [
    "plt.plot(v, u, \"+\")"
   ]
  },
  {
   "cell_type": "markdown",
   "metadata": {
    "pycharm": {
     "name": "#%% md\n"
    }
   },
   "source": [
    "Видно, что график действительно имеет вид, близкий к прямой линии."
   ]
  },
  {
   "cell_type": "markdown",
   "metadata": {
    "pycharm": {
     "name": "#%% md\n"
    }
   },
   "source": [
    "Найдём коэффициенты наилучшей прямой по методу наименьших квадратов (МНК). Для простоты погрешности всех точек будем считать приблизительно одинаковыми. Тогда можно воспользоваться формулами\n",
    "\\begin{equation}\n",
    "k = \\frac{\\overline{uv}- \\bar{u}\\bar{v}}{\\bar{v^2}-\\bar{v}^2}, \\quad b = \\bar{u} - k \\bar{v}\n",
    "\\end{equation}"
   ]
  },
  {
   "cell_type": "code",
   "execution_count": 17,
   "metadata": {
    "pycharm": {
     "name": "#%%\n"
    }
   },
   "outputs": [
    {
     "name": "stdout",
     "output_type": "stream",
     "text": [
      "k =  4.018295033427713 , b =  0.33801567301035323\n"
     ]
    }
   ],
   "source": [
    "mu = np.mean(u) # средее\n",
    "mv = np.mean(v)\n",
    "mv2 = np.mean(v**2) # средний квадрат\n",
    "mu2 = np.mean(u**2)\n",
    "muv = np.mean (u * v) # среднее от произведения\n",
    "k = (muv - mu * mv) / (mv2 - mv**2)\n",
    "b = mu - k * mv\n",
    "print(\"k = \", k, \", b = \", b)"
   ]
  },
  {
   "cell_type": "markdown",
   "metadata": {
    "pycharm": {
     "name": "#%% md\n"
    }
   },
   "source": [
    "_Заметим, что результат совпадает с выводом встроенной в пакет_ numpy _функции_ polyfit _(аппроксимация зависимости полиномом по методу МНК):_"
   ]
  },
  {
   "cell_type": "code",
   "execution_count": 18,
   "metadata": {
    "pycharm": {
     "name": "#%%\n"
    }
   },
   "outputs": [
    {
     "data": {
      "text/plain": [
       "array([4.01829503, 0.33801567])"
      ]
     },
     "execution_count": 18,
     "metadata": {},
     "output_type": "execute_result"
    }
   ],
   "source": [
    "np.polyfit(v, u, 1)"
   ]
  },
  {
   "cell_type": "markdown",
   "metadata": {
    "pycharm": {
     "name": "#%% md\n"
    }
   },
   "source": [
    "Изобразим на графике экспериментальные точки и полученную аппроксимирующую зависимость."
   ]
  },
  {
   "cell_type": "code",
   "execution_count": 19,
   "metadata": {
    "pycharm": {
     "name": "#%%\n"
    }
   },
   "outputs": [
    {
     "data": {
      "text/plain": [
       "<matplotlib.legend.Legend at 0x7efe7ddea6b0>"
      ]
     },
     "execution_count": 19,
     "metadata": {},
     "output_type": "execute_result"
    },
    {
     "data": {
      "image/png": "[encoded data removed]",
      "text/plain": [
       "<Figure size 800x600 with 1 Axes>"
      ]
     },
     "metadata": {
      "needs_background": "light"
     },
     "output_type": "display_data"
    }
   ],
   "source": [
    "plt.figure(figsize=(8,6), dpi=100) # размер графика\n",
    "plt.ylabel(\"$u=T^2 a$, $с^2 \\cdot м$\") # подписи к осям\n",
    "plt.xlabel(\"$v=a^2$, $м^2$\")\n",
    "plt.title('Рис.2. Наилучшая прямая для линеаризованной зависимости $T(a)$') # заголовок графика\n",
    "plt.grid(True, linestyle=\"--\") # сетка\n",
    "plt.axis([0,0.25,0,1.3]) # масштабы осей\n",
    "x = np.array([0., 1]) # две точки аппроксимирующей прямой\n",
    "plt.plot(x, k * x + b, \"-r\",linewidth=1, label=\"Линейная аппроксимация $u = %.2f v + %.2f$\" % (k, b)) # аппроксимация\n",
    "plt.errorbar(v, u, xerr=sigma_a, yerr=sigma_T, fmt=\"ok\", label=\"Экспериментальные точки\", ms=3) # точки с погрешностями\n",
    "plt.legend() # легенда"
   ]
  },
  {
   "cell_type": "markdown",
   "metadata": {
    "pycharm": {
     "name": "#%% md\n"
    }
   },
   "source": [
    "Вычислим ускорение свободного падения:"
   ]
  },
  {
   "cell_type": "code",
   "execution_count": 20,
   "metadata": {
    "pycharm": {
     "name": "#%%\n"
    }
   },
   "outputs": [
    {
     "name": "stdout",
     "output_type": "stream",
     "text": [
      "g = 9.825\n"
     ]
    }
   ],
   "source": [
    "g = (4 * np.pi**2) / k\n",
    "print(\"g = %.3f\" % g)"
   ]
  },
  {
   "cell_type": "markdown",
   "metadata": {
    "pycharm": {
     "name": "#%% md\n"
    }
   },
   "source": [
    "По величине свободного слагаемого проверим длину стержня: "
   ]
  },
  {
   "cell_type": "code",
   "execution_count": 21,
   "metadata": {
    "pycharm": {
     "name": "#%%\n"
    }
   },
   "outputs": [
    {
     "name": "stdout",
     "output_type": "stream",
     "text": [
      "L = 1.009 м\n"
     ]
    }
   ],
   "source": [
    "L = (3 * b * g) / np.pi**2\n",
    "print(\"L = %.3f м\" % L)"
   ]
  },
  {
   "cell_type": "markdown",
   "metadata": {
    "pycharm": {
     "name": "#%% md\n"
    }
   },
   "source": [
    "Видно, что она совпадает с измеренной непосредственно $l=1000$ мм с точностью 0,9% (в пределах погрешности опыта)."
   ]
  },
  {
   "cell_type": "markdown",
   "metadata": {
    "pycharm": {
     "name": "#%% md\n"
    }
   },
   "source": [
    "Вычислим случайные погрешности определения коэффициентов прямой: \n",
    "\\begin{equation}\n",
    "\\sigma_k = \\sqrt{\\frac{1}{N-2} \\left(\\frac{\\overline{y^2}-\\bar{y}^2}{\\overline{x^2} - \\bar{x}^2}-k^2\\right)},\\qquad \\sigma_b = \\sigma_k \\sqrt{\\overline{x^2}}\n",
    "\\end{equation}\n",
    "и из них --- случайную погрешность измерения $g$ и $L$."
   ]
  },
  {
   "cell_type": "code",
   "execution_count": 22,
   "metadata": {
    "pycharm": {
     "name": "#%%\n"
    }
   },
   "outputs": [
    {
     "name": "stdout",
     "output_type": "stream",
     "text": [
      "sigma_k = 0.016, sigma_b = 0.002\n",
      "sigma_g = 0.040, sigma_L = 0.007\n"
     ]
    }
   ],
   "source": [
    "N = len(v) # число точек\n",
    "sigma_k = np.sqrt(1/(N-2) * ( (mu2 - mu**2)/(mv2 - mv**2) - k**2 ) )\n",
    "sigma_b = sigma_k * np.sqrt(mv2)\n",
    "sigma_g = sigma_k / k * g\n",
    "sigma_L = L * np.sqrt( (sigma_b / b)**2 + (sigma_g / g)**2 )\n",
    "print(\"sigma_k = %.3f, sigma_b = %.3f\" % (sigma_k, sigma_b))\n",
    "print(\"sigma_g = %.3f, sigma_L = %.3f\" % (sigma_g, sigma_L))"
   ]
  },
  {
   "cell_type": "markdown",
   "metadata": {
    "pycharm": {
     "name": "#%% md\n"
    }
   },
   "source": [
    "Окончательный результат для ускорения свободного падения:\n",
    "    \\begin{equation}\n",
    "    g = 9{,}82 \\pm 0{,}04 \\; м/с^2.\n",
    "    \\end{equation}\n",
    "Длина стержня, определённая как параметр теоретической зависимости:\n",
    "\\begin{equation}\n",
    "L = 1009 \\pm 7\\; мм.\n",
    "\\end{equation}"
   ]
  },
  {
   "cell_type": "markdown",
   "metadata": {
    "pycharm": {
     "name": "#%% md\n"
    }
   },
   "source": [
    "### Проверка качества аппроксимации по сумме хи-квадрат"
   ]
  },
  {
   "cell_type": "markdown",
   "metadata": {
    "pycharm": {
     "name": "#%% md\n"
    }
   },
   "source": [
    "Для проверки точности аппроксимации, вычислим сумму $\\chi^2$:\n",
    "\\begin{equation}\n",
    "\\chi^2 = \\sum \\left(\\frac{\\Delta u}{\\sigma_u}\\right)^2\n",
    "\\end{equation}"
   ]
  },
  {
   "cell_type": "code",
   "execution_count": 23,
   "metadata": {
    "pycharm": {
     "name": "#%%\n"
    }
   },
   "outputs": [
    {
     "name": "stdout",
     "output_type": "stream",
     "text": [
      "chi_2 =  3.1652710916285764 , chi_2/doF =  0.31652710916285764\n"
     ]
    }
   ],
   "source": [
    "chi2 = np.sum( ((u - (k * v + b)) / sigma_u)**2 )\n",
    "doF = N -2\n",
    "print(\"chi_2 = \", chi2, \", chi_2/doF = \", chi2 / doF)"
   ]
  },
  {
   "cell_type": "markdown",
   "metadata": {
    "pycharm": {
     "name": "#%% md\n"
    }
   },
   "source": [
    "Нормированная (на число степеней свободы) величина $\\chi^2/(N-2) \\approx 0{,}3 < 1$ показывает, что выполненная аппроксимация является удовлетворительной (при этом оценка погрешностей по вертикальной оси несколько завышена)."
   ]
  },
  {
   "cell_type": "markdown",
   "metadata": {
    "pycharm": {
     "name": "#%% md\n"
    }
   },
   "source": [
    "Вероятность $P$ того, что в опыте обнаружено отклонение от теоретической зависимости, можно вычислить по значению \"распределения хи-квадрат\". Данная функция распределения реализована в пакете scipy.stats."
   ]
  },
  {
   "cell_type": "code",
   "execution_count": 24,
   "metadata": {
    "pycharm": {
     "name": "#%%\n"
    }
   },
   "outputs": [
    {
     "name": "stdout",
     "output_type": "stream",
     "text": [
      "P-value = 2.3%\n"
     ]
    }
   ],
   "source": [
    "import scipy.stats\n",
    "# \"кумулятивная функция распределения\" (cdf) задаёт вероятность того, что величина chi^2 случано превысит заданное значение (при заданном числе степеней свободы doF)\n",
    "p_value = scipy.stats.chi2.cdf(chi2, doF) \n",
    "print(\"P-value = %.1f%%\" % (p_value * 100))"
   ]
  },
  {
   "cell_type": "markdown",
   "metadata": {
    "pycharm": {
     "name": "#%% md\n"
    }
   },
   "source": [
    "Таким образом, вероятность того, что в опыте обнаружено отклонение от теории, составляет $P=2{,}3\\%$."
   ]
  },
  {
   "cell_type": "markdown",
   "metadata": {
    "pycharm": {
     "name": "#%% md\n"
    }
   },
   "source": [
    "## ДОПОЛНЕНИЕ. Нелинейная аппроксимация по методу минимума хи-квадрат\n",
    "\n",
    "_Это дополнение не является обязательной частью учебного задания. Здесь продемонстрировано, как можно обработать результаты эксперимента, не прибегая к линеаризации графика. Мы вычислим параметры эксперимента с помощью нелинейного метода минимизации суммы хи-квадрат (известный также под названием \"МНК с весами\"), используя функцию_ curve_fit _пакета_ scipy.optimize."
   ]
  },
  {
   "cell_type": "code",
   "execution_count": 25,
   "metadata": {
    "pycharm": {
     "name": "#%%\n"
    }
   },
   "outputs": [],
   "source": [
    "from scipy.optimize import curve_fit"
   ]
  },
  {
   "cell_type": "markdown",
   "metadata": {
    "pycharm": {
     "name": "#%% md\n"
    }
   },
   "source": [
    "Зададим теоретическую зависимость как функцию $T(a)$, считая величины $g$ и $l$ параметрами модели:\n",
    "\\begin{equation}\n",
    "T(a ; g, l) = 2\\pi \\sqrt{\\frac{l^2/12 + a^2}{g a}}\n",
    "\\end{equation}"
   ]
  },
  {
   "cell_type": "code",
   "execution_count": 26,
   "metadata": {
    "pycharm": {
     "name": "#%%\n"
    }
   },
   "outputs": [],
   "source": [
    "f = lambda x, g, l: 2 * np.pi * np.sqrt( (l**2 / 12 + x**2) / (g * x) )"
   ]
  },
  {
   "cell_type": "markdown",
   "metadata": {
    "pycharm": {
     "name": "#%% md\n"
    }
   },
   "source": [
    "Воспользуемся функцией curve_fit для подбора оптимальных параметров. Данный метод численно минимизирует сумму \n",
    "\\begin{equation}\n",
    "\\sum_{i=1}^N \\left(\\frac{T_i - T(a_i;g,l)}{\\sigma_{Ti}}\\right)^2\n",
    "\\end{equation}\n",
    "Результатом является набор оптимальных параметров $(g, l)$, и \"ковариационная матрица\" (диагональные элементы которой равны дисперсии соответствующего параметра)."
   ]
  },
  {
   "cell_type": "code",
   "execution_count": 27,
   "metadata": {
    "pycharm": {
     "name": "#%%\n"
    }
   },
   "outputs": [],
   "source": [
    "popt, pcov = curve_fit(f, a, T, sigma=sigma_T) # sigma задаёт погрешности каждой точки по оси ординат"
   ]
  },
  {
   "cell_type": "code",
   "execution_count": 28,
   "metadata": {
    "pycharm": {
     "name": "#%%\n"
    }
   },
   "outputs": [
    {
     "name": "stdout",
     "output_type": "stream",
     "text": [
      "9.839361842336142 1.0060669740525674\n"
     ]
    }
   ],
   "source": [
    "# оптимальные параметры содержаться в массиве popt\n",
    "g, l = popt\n",
    "print(g, l)"
   ]
  },
  {
   "cell_type": "code",
   "execution_count": 29,
   "metadata": {
    "pycharm": {
     "name": "#%%\n"
    }
   },
   "outputs": [
    {
     "name": "stdout",
     "output_type": "stream",
     "text": [
      "sigma_g =  0.04020866077908003 , sigma_l =  0.003369125054261992\n"
     ]
    }
   ],
   "source": [
    "# Случайные погрешности параметров -- это диагональные элементы \"ковариационной\" матрицы pcov\n",
    "sigma_g, sigma_l = np.sqrt(np.diag(pcov))\n",
    "print(\"sigma_g = \", sigma_g, \", sigma_l = \", sigma_l)"
   ]
  },
  {
   "cell_type": "markdown",
   "metadata": {
    "pycharm": {
     "name": "#%% md\n"
    }
   },
   "source": [
    "Изобразим на графике результат нелинейной аппроксимации, наложенный на экспериментальные точки."
   ]
  },
  {
   "cell_type": "code",
   "execution_count": 30,
   "metadata": {
    "scrolled": true,
    "pycharm": {
     "name": "#%%\n"
    }
   },
   "outputs": [
    {
     "data": {
      "text/plain": [
       "<matplotlib.legend.Legend at 0x7efe7357ce80>"
      ]
     },
     "execution_count": 30,
     "metadata": {},
     "output_type": "execute_result"
    },
    {
     "data": {
      "image/png": "[encoded data removed]",
      "text/plain": [
       "<Figure size 800x600 with 1 Axes>"
      ]
     },
     "metadata": {
      "needs_background": "light"
     },
     "output_type": "display_data"
    }
   ],
   "source": [
    "plt.figure(figsize=(8,6), dpi=100)\n",
    "plt.ylim(1.4, 2.5)\n",
    "plt.xlim(0., 0.5)\n",
    "plt.ylabel(\"$T$, с\")\n",
    "plt.xlabel(\"$a$, м\")\n",
    "plt.title('Рис.3. Зависимость периода $T$ от положения призмы $a$: нелинейная аппроксимация')\n",
    "\n",
    "plt.grid(True, linestyle=\"--\")\n",
    "\n",
    "x = np.linspace(0.01, 0.5, 50)\n",
    "plt.plot(x, f(x, g, l), 'r-', linewidth=1, label='Нелинейная аппроксимация: g=%.2f, l=%.3f' % (g, l))\n",
    "\n",
    "plt.errorbar(a, T, xerr=sigma_a, yerr=sigma_T, fmt=\".k\", label='Экспериментальные точки')\n",
    "plt.legend()"
   ]
  },
  {
   "cell_type": "markdown",
   "metadata": {
    "pycharm": {
     "name": "#%% md\n"
    }
   },
   "source": [
    "Результат нелинейной аппроксимации:\n",
    "\\begin{equation}\n",
    "g = 9{,}84 \\pm 0{,}04\\; \\text{м}/\\text{с}^2,\\qquad l = 1{,}006 \\pm 0{,}003\\;\\text{м}\n",
    "\\end{equation}"
   ]
  },
  {
   "cell_type": "markdown",
   "metadata": {
    "pycharm": {
     "name": "#%% md\n"
    }
   },
   "source": [
    "Из теоретической зависимости при найденых $g$ и $l$ определим минимальное значение периода:"
   ]
  },
  {
   "cell_type": "code",
   "execution_count": 31,
   "metadata": {
    "pycharm": {
     "name": "#%%\n"
    }
   },
   "outputs": [
    {
     "name": "stdout",
     "output_type": "stream",
     "text": [
      "T_min = 1.527 с\n"
     ]
    }
   ],
   "source": [
    "T_min = f(l**2/np.sqrt(12), g, l)\n",
    "print(\"T_min = %.3f с\" % T_min)"
   ]
  },
  {
   "cell_type": "markdown",
   "metadata": {
    "pycharm": {
     "name": "#%% md\n"
    }
   },
   "source": [
    "Вычислим сумму $\\chi^2$ и её нормировку на число степеней свободы:"
   ]
  },
  {
   "cell_type": "code",
   "execution_count": 32,
   "metadata": {
    "pycharm": {
     "name": "#%%\n"
    }
   },
   "outputs": [
    {
     "name": "stdout",
     "output_type": "stream",
     "text": [
      "chi_2 =  3.531066443314955 , chi_2/doF =  0.3531066443314955\n",
      "P-value = 3.4%\n"
     ]
    }
   ],
   "source": [
    "chi2 = np.sum( ( (T - f(a, g, l)) / sigma_T )**2 )\n",
    "print(\"chi_2 = \", chi2, \", chi_2/doF = \", chi2 / (len(a)-2))\n",
    "p_value = scipy.stats.chi2.cdf(chi2, doF) \n",
    "print(\"P-value = %.1f%%\" % (p_value * 100))"
   ]
  },
  {
   "cell_type": "markdown",
   "metadata": {
    "pycharm": {
     "name": "#%% md\n"
    }
   },
   "source": [
    "Поскольку $\\chi^2 / (N - 2) \\lesssim 1$, аппроксимация является удовлетворительной. Оценка величины погрешностей $\\sigma_T$ несколько завышена."
   ]
  }
 ],
 "metadata": {
  "kernelspec": {
   "display_name": "Python 3 (ipykernel)",
   "language": "python",
   "name": "python3"
  },
  "language_info": {
   "codemirror_mode": {
    "name": "ipython",
    "version": 3
   },
   "file_extension": ".py",
   "mimetype": "text/x-python",
   "name": "python",
   "nbconvert_exporter": "python",
   "pygments_lexer": "ipython3",
   "version": "3.10.5"
  }
 },
 "nbformat": 4,
 "nbformat_minor": 4
}